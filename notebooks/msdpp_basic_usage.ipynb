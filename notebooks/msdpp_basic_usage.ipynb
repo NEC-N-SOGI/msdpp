{
  "cells": [
    {
      "cell_type": "markdown",
      "id": "7cfa5569",
      "metadata": {},
      "source": [
        "# Basic Usage of MS-DPP"
      ]
    },
    {
      "cell_type": "code",
      "execution_count": null,
      "id": "88ae861b",
      "metadata": {},
      "outputs": [],
      "source": [
        "import torch\n",
        "\n",
        "from msdpp.base.divmethod import DivDir\n",
        "from msdpp.div_method.dpp import MSDPP\n",
        "\n"
      ]
    },
    {
      "cell_type": "markdown",
      "id": "3cc2de2e",
      "metadata": {},
      "source": [
        "## Data generation\n",
        "\n",
        "- scores: torch.Tensor. shape = [1, n_imgs]\n",
        "- img_feats: torch.Tensor. shape = [n_imgs, n_feat_dim]\n",
        "- atts_feats: list[torch.Tensor]. len = #attributes. shape of each att = [n_imgs, n_att_dim]\n"
      ]
    },
    {
      "cell_type": "code",
      "execution_count": 30,
      "id": "b411a29b",
      "metadata": {},
      "outputs": [],
      "source": [
        "\n",
        "torch.manual_seed(42)  # For reproducibility\n",
        "\n",
        "n_imgs = 100  # Number of images\n",
        "n_attributes = 3 # Number of attributes\n",
        "att_feat_dims = [10, 20, 30]  # Example dimensions for each attribute\n",
        "\n",
        "\n",
        "\n",
        "# random scores between 0 and 1\n",
        "scores = torch.rand((1, n_imgs))\n",
        "\n",
        "# Image features of shape [n_imgs, n_feat_dim]\n",
        "img_feats = torch.rand(n_imgs, 128)\n",
        "\n",
        "# Attributes features of shape [n_imgs, n_att_dim]\n",
        "atts_feats = [torch.rand(n_imgs, att_feat_dims[i]) for i in range(n_attributes)]\n"
      ]
    },
    {
      "cell_type": "markdown",
      "id": "e27231a7",
      "metadata": {},
      "source": [
        "## MS-DPP"
      ]
    },
    {
      "cell_type": "code",
      "execution_count": 31,
      "id": "8a47906b",
      "metadata": {},
      "outputs": [],
      "source": [
        "\n",
        "# tradeoff parameter for diversity vs. relevance\n",
        "# Larger values lead to more focus on retrieval scores.\n",
        "theta = 0.9\n",
        "\n",
        "# tradeoff parameter for image feat vs attribute feats\n",
        "# Larger values lead to more focus on image features.\n",
        "beta = 0.5\n",
        "\n",
        "# Whether to increase or decrease the diversity of atts_feats\n",
        "direction = DivDir.DECREASE\n",
        "\n",
        "msdpp = MSDPP(\n",
        "    theta=theta,\n",
        "    beta=beta,\n",
        ")\n",
        "\n"
      ]
    },
    {
      "cell_type": "code",
      "execution_count": 32,
      "id": "afd7a234",
      "metadata": {},
      "outputs": [
        {
          "name": "stdout",
          "output_type": "stream",
          "text": [
            "The 10 highest ranked images are:  [72, 3, 96, 70, 30, 43, 8, 10, 79, 1]\n"
          ]
        }
      ],
      "source": [
        "\n",
        "\n",
        "reranked_index = msdpp.search(\n",
        "    img_feats=img_feats,\n",
        "    info=atts_feats,\n",
        "    t2i_sim=scores,\n",
        "    direction=direction,\n",
        ")\n",
        "\n",
        "# Print the reranked indices\n",
        "print(\"The 10 highest ranked images are: \", reranked_index[0, :10].tolist())\n"
      ]
    }
  ],
  "metadata": {
    "kernelspec": {
      "display_name": "multi-source-dpps (3.10.16)",
      "language": "python",
      "name": "python3"
    },
    "language_info": {
      "codemirror_mode": {
        "name": "ipython",
        "version": 3
      },
      "file_extension": ".py",
      "mimetype": "text/x-python",
      "name": "python",
      "nbconvert_exporter": "python",
      "pygments_lexer": "ipython3",
      "version": "3.10.16"
    }
  },
  "nbformat": 4,
  "nbformat_minor": 5
}
